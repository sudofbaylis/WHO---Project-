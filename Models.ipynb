{
 "cells": [
  {
   "cell_type": "markdown",
   "id": "769beb6b-755a-4cb8-8467-9487932d6e45",
   "metadata": {},
   "source": [
    "# Life Expectancy Models 📈"
   ]
  },
  {
   "cell_type": "markdown",
   "id": "c5201c4c-b90e-40fb-bae1-4c150a1a51f3",
   "metadata": {
    "jp-MarkdownHeadingCollapsed": true
   },
   "source": [
    "###### "
   ]
  },
  {
   "cell_type": "code",
   "execution_count": 38,
   "id": "c1a2b64d-23aa-48c8-ba17-b1460b818d6b",
   "metadata": {},
   "outputs": [],
   "source": [
    "import numpy as np\n",
    "import pandas as pd\n",
    "\n",
    "from sklearn.model_selection import train_test_split # To perform our train-test split\n",
    "from sklearn.preprocessing import StandardScaler\n",
    "\n",
    "import statsmodels.api as sm # For linear regression\n",
    "import statsmodels.tools # For evaluation of our model"
   ]
  },
  {
   "cell_type": "code",
   "execution_count": 39,
   "id": "9207230b-6cd5-4274-a159-0eae6f7dd13c",
   "metadata": {},
   "outputs": [],
   "source": [
    "df = pd.read_csv('Life Expectancy Data.csv')"
   ]
  },
  {
   "cell_type": "code",
   "execution_count": 40,
   "id": "90ed540b-f1fa-4b9c-9cea-54896ac8c23b",
   "metadata": {},
   "outputs": [],
   "source": [
    "feature_cols = list(df.columns)\n",
    "feature_cols.remove('Life_expectancy')\n",
    "X = df[feature_cols]\n",
    "y = df['Life_expectancy']\n",
    "X_train, X_test, y_train, y_test = train_test_split(X, y, test_size = 0.2, random_state = 104, stratify = X['Country'])\n",
    "X_train = X_train.reset_index(drop=True)\n",
    "X_test = X_test.reset_index(drop=True)\n",
    "y_train = y_train.reset_index(drop=True)\n",
    "y_test = y_test.reset_index(drop=True)"
   ]
  },
  {
   "cell_type": "code",
   "execution_count": 41,
   "id": "89cc0fb2-656a-455b-baec-b866f0b7afd5",
   "metadata": {},
   "outputs": [],
   "source": [
    "def scaling(df):\n",
    "    ''' Return scaled data '''\n",
    "    df = df.copy()\n",
    "    scaled_col_names = ['Year', 'Infant_deaths', 'Under_five_deaths', 'Adult_mortality', 'Alcohol_consumption', \n",
    "                'Hepatitis_B', 'Measles', 'BMI', 'Polio', 'Diphtheria', 'Incidents_HIV', 'GDP_per_capita', \n",
    "                'Population_mln', 'Thinness_ten_nineteen_years', 'Thinness_five_nine_years', 'Schooling', \n",
    "                'Economy_status_Developed', 'Economy_status_Developing', 'GDP_per_capita_log', 'Incidents_HIV_log']\n",
    "    features = df[scaled_col_names]\n",
    "    scaler = StandardScaler().fit(features)\n",
    "    scaled_features = scaler.transform(features)\n",
    "    df[scaled_col_names] = scaled_features\n",
    "    return df"
   ]
  },
  {
   "cell_type": "code",
   "execution_count": 42,
   "id": "b8ba886a-8780-49a4-ab30-9aefdca5a2e0",
   "metadata": {},
   "outputs": [],
   "source": [
    "def feature_eng(df):\n",
    "        df = df.copy()  # Good practice to use a copy\n",
    "\n",
    "        # Log transformation of the GDP column:\n",
    "        df['GDP_per_capita_log'] = df['GDP_per_capita'].apply(lambda x: np.log(x))\n",
    "        df['Incidents_HIV_log'] = df['Incidents_HIV'].apply(lambda x: -np.log(x))\n",
    "    \n",
    "        # Scale the data using a standard scaler:\n",
    "        scaled_df = scaling(df)\n",
    "    \n",
    "        # Making region numerical OHE\n",
    "        scaled_df = pd.get_dummies(scaled_df, columns = ['Region'], drop_first = True, prefix = 'Region')\n",
    "        #df = pd.get_dummies(df, columns = ['Country'], drop_first = True, prefix = 'Country')\n",
    "\n",
    "        # Add the constant (statsmodels)\n",
    "        scaled_df = sm.add_constant(scaled_df)\n",
    "\n",
    "        # Return the feature engineered result\n",
    "        return scaled_df"
   ]
  },
  {
   "cell_type": "code",
   "execution_count": 43,
   "id": "4b4f8b61-20cc-47f9-a464-f6f0267ba287",
   "metadata": {},
   "outputs": [],
   "source": [
    "X_train_fe = feature_eng(X_train)"
   ]
  },
  {
   "cell_type": "markdown",
   "id": "2cea678a-ca24-4a9f-9ac6-54863fcd234c",
   "metadata": {},
   "source": [
    "###### "
   ]
  },
  {
   "cell_type": "markdown",
   "id": "f7266055-70d2-45a0-8691-4bddd277518f",
   "metadata": {},
   "source": [
    "---\n",
    "## <u>The Accurate Model</u>"
   ]
  },
  {
   "cell_type": "markdown",
   "id": "d407fa52-c64a-450d-8b98-7b7543dd0758",
   "metadata": {},
   "source": [
    "We were tasked at producing an **elaborate model** that can be used for countries who have decided on **sharing their sensitive data**. <br>\n",
    "The aim was to produce the **most accurate model** able to **predict life expectancy** from several features relating to quality of life.<br>\n",
    "These features include GDP, mortality rates, immunisation coverage, population etc. While we had data on the specific countries, we excluded them first."
   ]
  },
  {
   "cell_type": "markdown",
   "id": "5ce7cbf4-4de1-4f2c-b283-230e13d31b59",
   "metadata": {},
   "source": [
    "### Why Did We Remove Country?\n",
    "This feature was found to be far too powerful in predicting life expectancy that it dilutes the dataset. <br>\n",
    "Essentially, any prediction would be dependent on the country rather than any other inputted features."
   ]
  },
  {
   "cell_type": "markdown",
   "id": "28054447-8d28-4d34-b11e-6d7d9340e12a",
   "metadata": {},
   "source": [
    "There were several other features excluded because we found them to be **insignificant** in predicting life expectancy while still **increasing the complexity** of the model. <br>\n",
    "Significant features were identified using a p-value of **<0.05**.\n",
    "### Excluded Features:\n",
    "* Alcohol consumption **(p = 0.099)**<br>\n",
    "* Measles cases per 1000 **(p = 0.852)**<br>\n",
    "* Diphtheria immunisation coverage % **(p = 0.132)**<br>\n",
    "* Population **(p = 0.171)**<br>\n",
    "* Thinness % aged 5-9 year **(p = 0.103)**<br>\n",
    "\n",
    "There were some features that we found to be **insigificant** that we still included in the model to maintain **fairness**. <br>\n",
    "### Noteable Included Features:\n",
    "* Middle Eastern Region **(p = 0.652)**<br>\n",
    "* Rest of Europe Region **(p = 0.105)**\n",
    " \n",
    "The choice was made between **removing the identified regions**, or **removing all regions**. The former was chosen as other regions were found to have a strong impact on the model."
   ]
  },
  {
   "cell_type": "code",
   "execution_count": null,
   "id": "174d1275-110d-4b58-8480-4a45fd812c5a",
   "metadata": {},
   "outputs": [],
   "source": [
    "feature_cols = ['const', 'Year', 'Infant_deaths', 'Under_five_deaths',\n",
    "           'Adult_mortality', 'Hepatitis_B', 'BMI', 'Polio', 'Incidents_HIV_log', 'GDP_per_capita_log',\n",
    "           'Thinness_ten_nineteen_years', 'Schooling', 'Economy_status_Developed', 'Region_Asia',\n",
    "           'Region_Central America and Caribbean', 'Region_European Union',\n",
    "           'Region_Middle East', 'Region_North America', 'Region_Oceania',\n",
    "           'Region_Rest of Europe', 'Region_South America'] # The features included in this linear regression\n",
    "\n",
    "lin_reg = sm.OLS(y_train, X_train_fe[feature_cols]) # Fit the model using the data\n",
    "results = lin_reg.fit()\n",
    "results.summary() # Produce a summary of the statistics of the linear regression"
   ]
  },
  {
   "cell_type": "markdown",
   "id": "93624b5e-284b-46a8-bd86-e1c669de981f",
   "metadata": {},
   "source": [
    "**R-Squared = 0.984** <br>\n",
    "This is a measure of how good our model is doing. 98.4% of the variation in our data is explained by the model. <br>\n",
    "**Condition Number = 33** <br>\n",
    "This shows how stable the model is. If we were to change the data slightly, how would it affect the model. In this case, 33 is very low, so the model is very stable. <br>"
   ]
  },
  {
   "cell_type": "markdown",
   "id": "9a5f3e10-4f35-4fde-9617-49528f09c433",
   "metadata": {},
   "source": [
    "---\n",
    "## <u>The Ethical Model</u>"
   ]
  },
  {
   "cell_type": "markdown",
   "id": "bb50da56-7109-4e9f-b1ee-5bb4fd0cfe28",
   "metadata": {},
   "source": [
    "In this model, we were tasked at producing a **sensitive model** using the **least information necessary** to make a prediction for countries **not** willing to share their sensitive data. <br>\n",
    "The aim was to identify the features capable of **accurately predicting life expectancy** while excluding features that could bring about **unwanted financial implications** from sharing their data. <br>\n",
    "Note that all features **previously excluded** are excluded here for the same reason **except alcohol consumption** that became significant in this model."
   ]
  },
  {
   "cell_type": "markdown",
   "id": "c400f71e-f67a-4e18-a89b-873c4faedc16",
   "metadata": {},
   "source": [
    "## <u>Excluded Features:</u>\n",
    "#### **Child Death Statistics:**\n",
    "    * Infant Deaths per 1000\n",
    "    * Under Five Deaths per 1000\n",
    "The number of Deaths per 1000 for children is a reflection of a countries **access to healthcare** for vulnerable people. <br>\n",
    "This is sensitive because exposing a high mortality rate would impose financial pressure on the country to improve healthcare.\n",
    "#### **Immunisation Coverage and Disease Incidence:**\n",
    "    * Hepatitis B immunisation coverage %\n",
    "    * Polio immunisation coverage %\n",
    "    * HIV/AIDS deaths per 1000 aged 0-4\n",
    "Immunisation coverage reflects on the **healthcare infrastructure** relating to vaccination of children. <br>\n",
    "While HIV/AIDS deaths relates to a countries **access to contraceptives and HIV awareness**. <br>\n",
    "This is sensitive because it can put financial pressure on a country to put funding into their healthcare infrastructure.\n",
    "#### **Weight Statistics:**\n",
    "    * Average BMI\n",
    "    * Thinness % aged 10-19\n",
    "BMI and Thinness can indicate the **levels of nutrition** across a country, with a low BMI and high thinness suggesting **malnutrition**. <br>\n",
    "This is sensitive as showing a statistic indicating mulnutrition puts financial pressure to provide food and farming.\n",
    "#### **Education Statistics:**\n",
    "    * Average Number of Years Spent Schooling\n",
    "Schooling provides insight into the **access of education** in a country. <br>\n",
    "This is sensitive as revealing a low number of schooling years would impose the need for funding education, creating financial pressure.\n",
    "#### **Geographical Data:**\n",
    "    * Region\n",
    "Region was excluded from the model as it **introduced a strong bias**. <br>\n",
    "The model became too heavily influenced by this feature, that we deemed it important to exclude."
   ]
  },
  {
   "cell_type": "markdown",
   "id": "d5ff32a6-6365-418f-be19-758fde1adde9",
   "metadata": {},
   "source": [
    "## <u>Included Features:</u>\n",
    "#### **Year:**\n",
    "\n",
    "This makes **no implications** on a countries quality of life.\n",
    "#### **Adult Mortality:**\n",
    "\n",
    "The **necessary** foundational statistic related to death to make some level of prediction for life expectancy. <br>\n",
    "#### **Alcohol Consumption:**\n",
    "\n",
    "Considered for exclusion under religious purposes, however, this feature does not make any unwanted financial implications while actively improving the model. <br>\n",
    "#### **GDP per Capita:**\n",
    "\n",
    "Very fundamental quality of life feature that due to its **generality**, does not make any implications on where to allocate finances to improve it. <br>"
   ]
  },
  {
   "cell_type": "code",
   "execution_count": 45,
   "id": "77bc2d9d-ea16-4f73-832d-70d5b96983d8",
   "metadata": {},
   "outputs": [
    {
     "data": {
      "text/html": [
       "<table class=\"simpletable\">\n",
       "<caption>OLS Regression Results</caption>\n",
       "<tr>\n",
       "  <th>Dep. Variable:</th>     <td>Life_expectancy</td> <th>  R-squared:         </th> <td>   0.944</td> \n",
       "</tr>\n",
       "<tr>\n",
       "  <th>Model:</th>                   <td>OLS</td>       <th>  Adj. R-squared:    </th> <td>   0.944</td> \n",
       "</tr>\n",
       "<tr>\n",
       "  <th>Method:</th>             <td>Least Squares</td>  <th>  F-statistic:       </th> <td>   9694.</td> \n",
       "</tr>\n",
       "<tr>\n",
       "  <th>Date:</th>             <td>Mon, 09 Dec 2024</td> <th>  Prob (F-statistic):</th>  <td>  0.00</td>  \n",
       "</tr>\n",
       "<tr>\n",
       "  <th>Time:</th>                 <td>11:59:37</td>     <th>  Log-Likelihood:    </th> <td> -5070.7</td> \n",
       "</tr>\n",
       "<tr>\n",
       "  <th>No. Observations:</th>      <td>  2291</td>      <th>  AIC:               </th> <td>1.015e+04</td>\n",
       "</tr>\n",
       "<tr>\n",
       "  <th>Df Residuals:</th>          <td>  2286</td>      <th>  BIC:               </th> <td>1.018e+04</td>\n",
       "</tr>\n",
       "<tr>\n",
       "  <th>Df Model:</th>              <td>     4</td>      <th>                     </th>     <td> </td>    \n",
       "</tr>\n",
       "<tr>\n",
       "  <th>Covariance Type:</th>      <td>nonrobust</td>    <th>                     </th>     <td> </td>    \n",
       "</tr>\n",
       "</table>\n",
       "<table class=\"simpletable\">\n",
       "<tr>\n",
       "           <td></td>              <th>coef</th>     <th>std err</th>      <th>t</th>      <th>P>|t|</th>  <th>[0.025</th>    <th>0.975]</th>  \n",
       "</tr>\n",
       "<tr>\n",
       "  <th>const</th>               <td>   68.9270</td> <td>    0.046</td> <td> 1489.107</td> <td> 0.000</td> <td>   68.836</td> <td>   69.018</td>\n",
       "</tr>\n",
       "<tr>\n",
       "  <th>Year</th>                <td>    0.3543</td> <td>    0.047</td> <td>    7.549</td> <td> 0.000</td> <td>    0.262</td> <td>    0.446</td>\n",
       "</tr>\n",
       "<tr>\n",
       "  <th>Adult_mortality</th>     <td>   -7.1839</td> <td>    0.065</td> <td> -110.289</td> <td> 0.000</td> <td>   -7.312</td> <td>   -7.056</td>\n",
       "</tr>\n",
       "<tr>\n",
       "  <th>Alcohol_consumption</th> <td>    0.8304</td> <td>    0.057</td> <td>   14.499</td> <td> 0.000</td> <td>    0.718</td> <td>    0.943</td>\n",
       "</tr>\n",
       "<tr>\n",
       "  <th>GDP_per_capita_log</th>  <td>    2.0945</td> <td>    0.075</td> <td>   27.756</td> <td> 0.000</td> <td>    1.947</td> <td>    2.243</td>\n",
       "</tr>\n",
       "</table>\n",
       "<table class=\"simpletable\">\n",
       "<tr>\n",
       "  <th>Omnibus:</th>       <td>241.768</td> <th>  Durbin-Watson:     </th> <td>   1.944</td> \n",
       "</tr>\n",
       "<tr>\n",
       "  <th>Prob(Omnibus):</th> <td> 0.000</td>  <th>  Jarque-Bera (JB):  </th> <td> 621.995</td> \n",
       "</tr>\n",
       "<tr>\n",
       "  <th>Skew:</th>          <td>-0.594</td>  <th>  Prob(JB):          </th> <td>8.62e-136</td>\n",
       "</tr>\n",
       "<tr>\n",
       "  <th>Kurtosis:</th>      <td> 5.260</td>  <th>  Cond. No.          </th> <td>    2.96</td> \n",
       "</tr>\n",
       "</table><br/><br/>Notes:<br/>[1] Standard Errors assume that the covariance matrix of the errors is correctly specified."
      ],
      "text/plain": [
       "<class 'statsmodels.iolib.summary.Summary'>\n",
       "\"\"\"\n",
       "                            OLS Regression Results                            \n",
       "==============================================================================\n",
       "Dep. Variable:        Life_expectancy   R-squared:                       0.944\n",
       "Model:                            OLS   Adj. R-squared:                  0.944\n",
       "Method:                 Least Squares   F-statistic:                     9694.\n",
       "Date:                Mon, 09 Dec 2024   Prob (F-statistic):               0.00\n",
       "Time:                        11:59:37   Log-Likelihood:                -5070.7\n",
       "No. Observations:                2291   AIC:                         1.015e+04\n",
       "Df Residuals:                    2286   BIC:                         1.018e+04\n",
       "Df Model:                           4                                         \n",
       "Covariance Type:            nonrobust                                         \n",
       "=======================================================================================\n",
       "                          coef    std err          t      P>|t|      [0.025      0.975]\n",
       "---------------------------------------------------------------------------------------\n",
       "const                  68.9270      0.046   1489.107      0.000      68.836      69.018\n",
       "Year                    0.3543      0.047      7.549      0.000       0.262       0.446\n",
       "Adult_mortality        -7.1839      0.065   -110.289      0.000      -7.312      -7.056\n",
       "Alcohol_consumption     0.8304      0.057     14.499      0.000       0.718       0.943\n",
       "GDP_per_capita_log      2.0945      0.075     27.756      0.000       1.947       2.243\n",
       "==============================================================================\n",
       "Omnibus:                      241.768   Durbin-Watson:                   1.944\n",
       "Prob(Omnibus):                  0.000   Jarque-Bera (JB):              621.995\n",
       "Skew:                          -0.594   Prob(JB):                    8.62e-136\n",
       "Kurtosis:                       5.260   Cond. No.                         2.96\n",
       "==============================================================================\n",
       "\n",
       "Notes:\n",
       "[1] Standard Errors assume that the covariance matrix of the errors is correctly specified.\n",
       "\"\"\""
      ]
     },
     "execution_count": 45,
     "metadata": {},
     "output_type": "execute_result"
    }
   ],
   "source": [
    "feature_cols = ['const', 'Year', 'Adult_mortality', 'Alcohol_consumption', 'GDP_per_capita_log'] # The features included in this linear regression\n",
    "\n",
    "lin_reg = sm.OLS(y_train, X_train_fe[feature_cols]) # Fit the model using the data\n",
    "results = lin_reg.fit()\n",
    "results.summary() # Produce a summary of the statistics of the linear regression"
   ]
  },
  {
   "cell_type": "markdown",
   "id": "28fee060-b58d-46f4-acd4-1f164d4b21ef",
   "metadata": {},
   "source": [
    "**R-Squared = 0.944** <br>\n",
    "94.4% of the variation in our data is explained by the model. <br>\n",
    "**Condition Number = 2.96** <br>\n",
    "A condition number of 2.96 is extremely low, indicating a very stable model."
   ]
  }
 ],
 "metadata": {
  "kernelspec": {
   "display_name": "Python 3 (ipykernel)",
   "language": "python",
   "name": "python3"
  },
  "language_info": {
   "codemirror_mode": {
    "name": "ipython",
    "version": 3
   },
   "file_extension": ".py",
   "mimetype": "text/x-python",
   "name": "python",
   "nbconvert_exporter": "python",
   "pygments_lexer": "ipython3",
   "version": "3.12.7"
  }
 },
 "nbformat": 4,
 "nbformat_minor": 5
}
