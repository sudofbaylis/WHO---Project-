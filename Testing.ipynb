{
 "cells": [
  {
   "cell_type": "markdown",
   "id": "726e4a9d-12bd-4234-8ac6-2f9be5e35100",
   "metadata": {
    "id": "726e4a9d-12bd-4234-8ac6-2f9be5e35100"
   },
   "source": [
    "# Testing the models ✅"
   ]
  },
  {
   "cell_type": "markdown",
   "id": "2DZhrPwwCUkU",
   "metadata": {
    "id": "2DZhrPwwCUkU"
   },
   "source": [
    "### Accurate Model 🤓\n"
   ]
  },
  {
   "cell_type": "markdown",
   "id": "JZsGr-dDRhNn",
   "metadata": {
    "id": "JZsGr-dDRhNn"
   },
   "source": [
    "RMSE is a commonly used metric to measure the average magnitude of prediction errors.\n",
    "\n",
    "*   RMSE (train) = 1.186\n",
    "*   RMSE (test) = 1.243\n",
    "\n",
    "MAPE measures the average percentage difference between predicted and actual values.\n",
    "*   MAPE = 1.442 %\n",
    "\n",
    "\n",
    "> All rounded to rounded to 4 sf"
   ]
  },
  {
   "cell_type": "markdown",
   "id": "nlGKrI3-CHKv",
   "metadata": {
    "id": "nlGKrI3-CHKv",
    "jp-MarkdownHeadingCollapsed": true
   },
   "source": [
    "###### Hidden work"
   ]
  },
  {
   "cell_type": "code",
   "execution_count": 49,
   "id": "-mfBcMbiCGVY",
   "metadata": {
    "id": "-mfBcMbiCGVY"
   },
   "outputs": [],
   "source": [
    "import numpy as np  # For numerical computations and array manipulation\n",
    "import pandas as pd  # For data manipulation and analysis using DataFrames\n",
    "\n",
    "from sklearn.model_selection import train_test_split  # For splitting data into training and testing sets\n",
    "\n",
    "import statsmodels.api as sm  # For statistical modeling and analysis\n",
    "import statsmodels.tools  # Provides additional utilities for statsmodels\n",
    "\n",
    "import seaborn as sns  # For creating informative and aesthetic visualizations\n",
    "import matplotlib.pyplot as plt  # For plotting and data visualization\n",
    "\n",
    "from sklearn.preprocessing import StandardScaler  # For standardising features by scaling to unit variance\n",
    "from sklearn import metrics  # For evaluating model performance using various metrics\n"
   ]
  },
  {
   "cell_type": "code",
   "execution_count": 50,
   "id": "Ze5Y0dReEhEO",
   "metadata": {
    "id": "Ze5Y0dReEhEO"
   },
   "outputs": [],
   "source": [
    "# Define a function which applies standard scaling to the numerical columns:\n",
    "def scaling(df):\n",
    "    df = df.copy()\n",
    "    # List the columns to be scaled\n",
    "    scaled_col_names = [\"Year\", \"Infant_deaths\", \"Under_five_deaths\", \"Adult_mortality\", \"Alcohol_consumption\",\n",
    "                \"Hepatitis_B\", \"Measles\", \"BMI\", \"Polio\", \"Diphtheria\", \"Incidents_HIV\", \"GDP_per_capita\",\n",
    "                \"Population_mln\", \"Thinness_ten_nineteen_years\", \"Thinness_five_nine_years\", \"Schooling\",\n",
    "                \"Economy_status_Developed\", \"Economy_status_Developing\", 'GDP_per_capita_log', 'Incidents_HIV_log']\n",
    "    features = df[scaled_col_names]\n",
    "    # Fit and transform the scaler on the features to be scaled\n",
    "    scaler = StandardScaler().fit(features)\n",
    "    scaled_features = scaler.transform(features)\n",
    "    df[scaled_col_names] = scaled_features\n",
    "    return df"
   ]
  },
  {
   "cell_type": "code",
   "execution_count": 51,
   "id": "K6blOb-wCiGM",
   "metadata": {
    "colab": {
     "base_uri": "https://localhost:8080/",
     "height": 857
    },
    "id": "K6blOb-wCiGM",
    "outputId": "896cd71f-5c67-49ad-f5b9-e914c7690852"
   },
   "outputs": [
    {
     "data": {
      "text/html": [
       "<table class=\"simpletable\">\n",
       "<caption>OLS Regression Results</caption>\n",
       "<tr>\n",
       "  <th>Dep. Variable:</th>     <td>Life_expectancy</td> <th>  R-squared:         </th> <td>   0.984</td>\n",
       "</tr>\n",
       "<tr>\n",
       "  <th>Model:</th>                   <td>OLS</td>       <th>  Adj. R-squared:    </th> <td>   0.984</td>\n",
       "</tr>\n",
       "<tr>\n",
       "  <th>Method:</th>             <td>Least Squares</td>  <th>  F-statistic:       </th> <td>   6991.</td>\n",
       "</tr>\n",
       "<tr>\n",
       "  <th>Date:</th>             <td>Mon, 09 Dec 2024</td> <th>  Prob (F-statistic):</th>  <td>  0.00</td> \n",
       "</tr>\n",
       "<tr>\n",
       "  <th>Time:</th>                 <td>11:53:29</td>     <th>  Log-Likelihood:    </th> <td> -3640.7</td>\n",
       "</tr>\n",
       "<tr>\n",
       "  <th>No. Observations:</th>      <td>  2291</td>      <th>  AIC:               </th> <td>   7323.</td>\n",
       "</tr>\n",
       "<tr>\n",
       "  <th>Df Residuals:</th>          <td>  2270</td>      <th>  BIC:               </th> <td>   7444.</td>\n",
       "</tr>\n",
       "<tr>\n",
       "  <th>Df Model:</th>              <td>    20</td>      <th>                     </th>     <td> </td>   \n",
       "</tr>\n",
       "<tr>\n",
       "  <th>Covariance Type:</th>      <td>nonrobust</td>    <th>                     </th>     <td> </td>   \n",
       "</tr>\n",
       "</table>\n",
       "<table class=\"simpletable\">\n",
       "<tr>\n",
       "                    <td></td>                      <th>coef</th>     <th>std err</th>      <th>t</th>      <th>P>|t|</th>  <th>[0.025</th>    <th>0.975]</th>  \n",
       "</tr>\n",
       "<tr>\n",
       "  <th>const</th>                                <td>   68.7448</td> <td>    0.077</td> <td>  894.340</td> <td> 0.000</td> <td>   68.594</td> <td>   68.896</td>\n",
       "</tr>\n",
       "<tr>\n",
       "  <th>Year</th>                                 <td>    0.1920</td> <td>    0.027</td> <td>    7.147</td> <td> 0.000</td> <td>    0.139</td> <td>    0.245</td>\n",
       "</tr>\n",
       "<tr>\n",
       "  <th>Infant_deaths</th>                        <td>   -1.3676</td> <td>    0.175</td> <td>   -7.807</td> <td> 0.000</td> <td>   -1.711</td> <td>   -1.024</td>\n",
       "</tr>\n",
       "<tr>\n",
       "  <th>Under_five_deaths</th>                    <td>   -2.1568</td> <td>    0.175</td> <td>  -12.302</td> <td> 0.000</td> <td>   -2.501</td> <td>   -1.813</td>\n",
       "</tr>\n",
       "<tr>\n",
       "  <th>Adult_mortality</th>                      <td>   -4.9577</td> <td>    0.059</td> <td>  -84.704</td> <td> 0.000</td> <td>   -5.073</td> <td>   -4.843</td>\n",
       "</tr>\n",
       "<tr>\n",
       "  <th>Hepatitis_B</th>                          <td>   -0.1585</td> <td>    0.038</td> <td>   -4.182</td> <td> 0.000</td> <td>   -0.233</td> <td>   -0.084</td>\n",
       "</tr>\n",
       "<tr>\n",
       "  <th>BMI</th>                                  <td>   -0.3186</td> <td>    0.048</td> <td>   -6.621</td> <td> 0.000</td> <td>   -0.413</td> <td>   -0.224</td>\n",
       "</tr>\n",
       "<tr>\n",
       "  <th>Polio</th>                                <td>    0.1352</td> <td>    0.049</td> <td>    2.737</td> <td> 0.006</td> <td>    0.038</td> <td>    0.232</td>\n",
       "</tr>\n",
       "<tr>\n",
       "  <th>Incidents_HIV_log</th>                    <td>    0.2124</td> <td>    0.044</td> <td>    4.792</td> <td> 0.000</td> <td>    0.125</td> <td>    0.299</td>\n",
       "</tr>\n",
       "<tr>\n",
       "  <th>GDP_per_capita_log</th>                   <td>    0.7005</td> <td>    0.058</td> <td>   12.141</td> <td> 0.000</td> <td>    0.587</td> <td>    0.814</td>\n",
       "</tr>\n",
       "<tr>\n",
       "  <th>Thinness_ten_nineteen_years</th>          <td>   -0.0770</td> <td>    0.037</td> <td>   -2.077</td> <td> 0.038</td> <td>   -0.150</td> <td>   -0.004</td>\n",
       "</tr>\n",
       "<tr>\n",
       "  <th>Schooling</th>                            <td>    0.2143</td> <td>    0.058</td> <td>    3.717</td> <td> 0.000</td> <td>    0.101</td> <td>    0.327</td>\n",
       "</tr>\n",
       "<tr>\n",
       "  <th>Economy_status_Developed</th>             <td>    1.0256</td> <td>    0.063</td> <td>   16.175</td> <td> 0.000</td> <td>    0.901</td> <td>    1.150</td>\n",
       "</tr>\n",
       "<tr>\n",
       "  <th>Region_Asia</th>                          <td>    0.3042</td> <td>    0.113</td> <td>    2.682</td> <td> 0.007</td> <td>    0.082</td> <td>    0.527</td>\n",
       "</tr>\n",
       "<tr>\n",
       "  <th>Region_Central America and Caribbean</th> <td>    1.8584</td> <td>    0.116</td> <td>   16.083</td> <td> 0.000</td> <td>    1.632</td> <td>    2.085</td>\n",
       "</tr>\n",
       "<tr>\n",
       "  <th>Region_European Union</th>                <td>   -0.9492</td> <td>    0.173</td> <td>   -5.500</td> <td> 0.000</td> <td>   -1.288</td> <td>   -0.611</td>\n",
       "</tr>\n",
       "<tr>\n",
       "  <th>Region_Middle East</th>                   <td>    0.0629</td> <td>    0.140</td> <td>    0.450</td> <td> 0.652</td> <td>   -0.211</td> <td>    0.337</td>\n",
       "</tr>\n",
       "<tr>\n",
       "  <th>Region_North America</th>                 <td>    0.5788</td> <td>    0.235</td> <td>    2.467</td> <td> 0.014</td> <td>    0.119</td> <td>    1.039</td>\n",
       "</tr>\n",
       "<tr>\n",
       "  <th>Region_Oceania</th>                       <td>   -0.8596</td> <td>    0.147</td> <td>   -5.830</td> <td> 0.000</td> <td>   -1.149</td> <td>   -0.570</td>\n",
       "</tr>\n",
       "<tr>\n",
       "  <th>Region_Rest of Europe</th>                <td>    0.2332</td> <td>    0.144</td> <td>    1.620</td> <td> 0.105</td> <td>   -0.049</td> <td>    0.515</td>\n",
       "</tr>\n",
       "<tr>\n",
       "  <th>Region_South America</th>                 <td>    1.5122</td> <td>    0.133</td> <td>   11.397</td> <td> 0.000</td> <td>    1.252</td> <td>    1.772</td>\n",
       "</tr>\n",
       "</table>\n",
       "<table class=\"simpletable\">\n",
       "<tr>\n",
       "  <th>Omnibus:</th>       <td>13.393</td> <th>  Durbin-Watson:     </th> <td>   1.937</td>\n",
       "</tr>\n",
       "<tr>\n",
       "  <th>Prob(Omnibus):</th> <td> 0.001</td> <th>  Jarque-Bera (JB):  </th> <td>  13.438</td>\n",
       "</tr>\n",
       "<tr>\n",
       "  <th>Skew:</th>          <td> 0.182</td> <th>  Prob(JB):          </th> <td> 0.00121</td>\n",
       "</tr>\n",
       "<tr>\n",
       "  <th>Kurtosis:</th>      <td> 3.089</td> <th>  Cond. No.          </th> <td>    33.0</td>\n",
       "</tr>\n",
       "</table><br/><br/>Notes:<br/>[1] Standard Errors assume that the covariance matrix of the errors is correctly specified."
      ],
      "text/latex": [
       "\\begin{center}\n",
       "\\begin{tabular}{lclc}\n",
       "\\toprule\n",
       "\\textbf{Dep. Variable:}                        & Life\\_expectancy & \\textbf{  R-squared:         } &     0.984   \\\\\n",
       "\\textbf{Model:}                                &       OLS        & \\textbf{  Adj. R-squared:    } &     0.984   \\\\\n",
       "\\textbf{Method:}                               &  Least Squares   & \\textbf{  F-statistic:       } &     6991.   \\\\\n",
       "\\textbf{Date:}                                 & Mon, 09 Dec 2024 & \\textbf{  Prob (F-statistic):} &     0.00    \\\\\n",
       "\\textbf{Time:}                                 &     11:53:29     & \\textbf{  Log-Likelihood:    } &   -3640.7   \\\\\n",
       "\\textbf{No. Observations:}                     &        2291      & \\textbf{  AIC:               } &     7323.   \\\\\n",
       "\\textbf{Df Residuals:}                         &        2270      & \\textbf{  BIC:               } &     7444.   \\\\\n",
       "\\textbf{Df Model:}                             &          20      & \\textbf{                     } &             \\\\\n",
       "\\textbf{Covariance Type:}                      &    nonrobust     & \\textbf{                     } &             \\\\\n",
       "\\bottomrule\n",
       "\\end{tabular}\n",
       "\\begin{tabular}{lcccccc}\n",
       "                                               & \\textbf{coef} & \\textbf{std err} & \\textbf{t} & \\textbf{P$> |$t$|$} & \\textbf{[0.025} & \\textbf{0.975]}  \\\\\n",
       "\\midrule\n",
       "\\textbf{const}                                 &      68.7448  &        0.077     &   894.340  &         0.000        &       68.594    &       68.896     \\\\\n",
       "\\textbf{Year}                                  &       0.1920  &        0.027     &     7.147  &         0.000        &        0.139    &        0.245     \\\\\n",
       "\\textbf{Infant\\_deaths}                        &      -1.3676  &        0.175     &    -7.807  &         0.000        &       -1.711    &       -1.024     \\\\\n",
       "\\textbf{Under\\_five\\_deaths}                   &      -2.1568  &        0.175     &   -12.302  &         0.000        &       -2.501    &       -1.813     \\\\\n",
       "\\textbf{Adult\\_mortality}                      &      -4.9577  &        0.059     &   -84.704  &         0.000        &       -5.073    &       -4.843     \\\\\n",
       "\\textbf{Hepatitis\\_B}                          &      -0.1585  &        0.038     &    -4.182  &         0.000        &       -0.233    &       -0.084     \\\\\n",
       "\\textbf{BMI}                                   &      -0.3186  &        0.048     &    -6.621  &         0.000        &       -0.413    &       -0.224     \\\\\n",
       "\\textbf{Polio}                                 &       0.1352  &        0.049     &     2.737  &         0.006        &        0.038    &        0.232     \\\\\n",
       "\\textbf{Incidents\\_HIV\\_log}                   &       0.2124  &        0.044     &     4.792  &         0.000        &        0.125    &        0.299     \\\\\n",
       "\\textbf{GDP\\_per\\_capita\\_log}                 &       0.7005  &        0.058     &    12.141  &         0.000        &        0.587    &        0.814     \\\\\n",
       "\\textbf{Thinness\\_ten\\_nineteen\\_years}        &      -0.0770  &        0.037     &    -2.077  &         0.038        &       -0.150    &       -0.004     \\\\\n",
       "\\textbf{Schooling}                             &       0.2143  &        0.058     &     3.717  &         0.000        &        0.101    &        0.327     \\\\\n",
       "\\textbf{Economy\\_status\\_Developed}            &       1.0256  &        0.063     &    16.175  &         0.000        &        0.901    &        1.150     \\\\\n",
       "\\textbf{Region\\_Asia}                          &       0.3042  &        0.113     &     2.682  &         0.007        &        0.082    &        0.527     \\\\\n",
       "\\textbf{Region\\_Central America and Caribbean} &       1.8584  &        0.116     &    16.083  &         0.000        &        1.632    &        2.085     \\\\\n",
       "\\textbf{Region\\_European Union}                &      -0.9492  &        0.173     &    -5.500  &         0.000        &       -1.288    &       -0.611     \\\\\n",
       "\\textbf{Region\\_Middle East}                   &       0.0629  &        0.140     &     0.450  &         0.652        &       -0.211    &        0.337     \\\\\n",
       "\\textbf{Region\\_North America}                 &       0.5788  &        0.235     &     2.467  &         0.014        &        0.119    &        1.039     \\\\\n",
       "\\textbf{Region\\_Oceania}                       &      -0.8596  &        0.147     &    -5.830  &         0.000        &       -1.149    &       -0.570     \\\\\n",
       "\\textbf{Region\\_Rest of Europe}                &       0.2332  &        0.144     &     1.620  &         0.105        &       -0.049    &        0.515     \\\\\n",
       "\\textbf{Region\\_South America}                 &       1.5122  &        0.133     &    11.397  &         0.000        &        1.252    &        1.772     \\\\\n",
       "\\bottomrule\n",
       "\\end{tabular}\n",
       "\\begin{tabular}{lclc}\n",
       "\\textbf{Omnibus:}       & 13.393 & \\textbf{  Durbin-Watson:     } &    1.937  \\\\\n",
       "\\textbf{Prob(Omnibus):} &  0.001 & \\textbf{  Jarque-Bera (JB):  } &   13.438  \\\\\n",
       "\\textbf{Skew:}          &  0.182 & \\textbf{  Prob(JB):          } &  0.00121  \\\\\n",
       "\\textbf{Kurtosis:}      &  3.089 & \\textbf{  Cond. No.          } &     33.0  \\\\\n",
       "\\bottomrule\n",
       "\\end{tabular}\n",
       "%\\caption{OLS Regression Results}\n",
       "\\end{center}\n",
       "\n",
       "Notes: \\newline\n",
       " [1] Standard Errors assume that the covariance matrix of the errors is correctly specified."
      ],
      "text/plain": [
       "<class 'statsmodels.iolib.summary.Summary'>\n",
       "\"\"\"\n",
       "                            OLS Regression Results                            \n",
       "==============================================================================\n",
       "Dep. Variable:        Life_expectancy   R-squared:                       0.984\n",
       "Model:                            OLS   Adj. R-squared:                  0.984\n",
       "Method:                 Least Squares   F-statistic:                     6991.\n",
       "Date:                Mon, 09 Dec 2024   Prob (F-statistic):               0.00\n",
       "Time:                        11:53:29   Log-Likelihood:                -3640.7\n",
       "No. Observations:                2291   AIC:                             7323.\n",
       "Df Residuals:                    2270   BIC:                             7444.\n",
       "Df Model:                          20                                         \n",
       "Covariance Type:            nonrobust                                         \n",
       "========================================================================================================\n",
       "                                           coef    std err          t      P>|t|      [0.025      0.975]\n",
       "--------------------------------------------------------------------------------------------------------\n",
       "const                                   68.7448      0.077    894.340      0.000      68.594      68.896\n",
       "Year                                     0.1920      0.027      7.147      0.000       0.139       0.245\n",
       "Infant_deaths                           -1.3676      0.175     -7.807      0.000      -1.711      -1.024\n",
       "Under_five_deaths                       -2.1568      0.175    -12.302      0.000      -2.501      -1.813\n",
       "Adult_mortality                         -4.9577      0.059    -84.704      0.000      -5.073      -4.843\n",
       "Hepatitis_B                             -0.1585      0.038     -4.182      0.000      -0.233      -0.084\n",
       "BMI                                     -0.3186      0.048     -6.621      0.000      -0.413      -0.224\n",
       "Polio                                    0.1352      0.049      2.737      0.006       0.038       0.232\n",
       "Incidents_HIV_log                        0.2124      0.044      4.792      0.000       0.125       0.299\n",
       "GDP_per_capita_log                       0.7005      0.058     12.141      0.000       0.587       0.814\n",
       "Thinness_ten_nineteen_years             -0.0770      0.037     -2.077      0.038      -0.150      -0.004\n",
       "Schooling                                0.2143      0.058      3.717      0.000       0.101       0.327\n",
       "Economy_status_Developed                 1.0256      0.063     16.175      0.000       0.901       1.150\n",
       "Region_Asia                              0.3042      0.113      2.682      0.007       0.082       0.527\n",
       "Region_Central America and Caribbean     1.8584      0.116     16.083      0.000       1.632       2.085\n",
       "Region_European Union                   -0.9492      0.173     -5.500      0.000      -1.288      -0.611\n",
       "Region_Middle East                       0.0629      0.140      0.450      0.652      -0.211       0.337\n",
       "Region_North America                     0.5788      0.235      2.467      0.014       0.119       1.039\n",
       "Region_Oceania                          -0.8596      0.147     -5.830      0.000      -1.149      -0.570\n",
       "Region_Rest of Europe                    0.2332      0.144      1.620      0.105      -0.049       0.515\n",
       "Region_South America                     1.5122      0.133     11.397      0.000       1.252       1.772\n",
       "==============================================================================\n",
       "Omnibus:                       13.393   Durbin-Watson:                   1.937\n",
       "Prob(Omnibus):                  0.001   Jarque-Bera (JB):               13.438\n",
       "Skew:                           0.182   Prob(JB):                      0.00121\n",
       "Kurtosis:                       3.089   Cond. No.                         33.0\n",
       "==============================================================================\n",
       "\n",
       "Notes:\n",
       "[1] Standard Errors assume that the covariance matrix of the errors is correctly specified.\n",
       "\"\"\""
      ]
     },
     "execution_count": 51,
     "metadata": {},
     "output_type": "execute_result"
    }
   ],
   "source": [
    "# Load the dataset into a Pandas DataFrame\n",
    "df = pd.read_csv(\"Life Expectancy Data.csv\")\n",
    "\n",
    "# Prepare feature columns (X) and target column (y)\n",
    "feature_cols = list(df.columns)  # Extract all column names\n",
    "feature_cols.remove('Life_expectancy')  # Remove target column from feature list\n",
    "X = df[feature_cols]  # Feature DataFrame\n",
    "y = df['Life_expectancy']  # Target variable\n",
    "\n",
    "# Split the data into training and testing sets\n",
    "# Stratify ensures Country distribution in training/testing sets remains consistent\n",
    "X_train, X_test, y_train, y_test = train_test_split(X, y, test_size=0.2, random_state=104, stratify=X['Country'])\n",
    "\n",
    "# Reset indices to ensure they start from 0 after splitting\n",
    "X_train = X_train.reset_index(drop=True)\n",
    "X_test = X_test.reset_index(drop=True)\n",
    "y_train = y_train.reset_index(drop=True)\n",
    "y_test = y_test.reset_index(drop=True)\n",
    "\n",
    "# Define the feature engineering function\n",
    "def feature_eng(df):\n",
    "    df = df.copy()  # Operate on a copy to avoid modifying the original DataFrame\n",
    "\n",
    "    # Apply log transformations to columns with logarithmic relationships\n",
    "    df['GDP_per_capita_log'] = df['GDP_per_capita'].apply(lambda x: np.log(x))\n",
    "    df['Incidents_HIV_log'] = df['Incidents_HIV'].apply(lambda x: -np.log(x))  # Negative log for inverse relationship\n",
    "\n",
    "    # Scale numeric features using a standard scaler (assumes 'scaling' is defined elsewhere)\n",
    "    scaled_df = scaling(df)  # Replace this with your scaling implementation\n",
    "\n",
    "    # Perform one-hot encoding on the 'Region' column, converting categories into binary columns\n",
    "    scaled_df = pd.get_dummies(scaled_df, columns=['Region'], drop_first=True, prefix='Region', dtype=int)\n",
    "\n",
    "    # Add a constant column for the statsmodels regression model\n",
    "    scaled_df = sm.add_constant(scaled_df)\n",
    "\n",
    "    # Return the feature-engineered DataFrame\n",
    "    return scaled_df\n",
    "\n",
    "# Apply feature engineering to the training data\n",
    "X_train_fe = feature_eng(X_train)\n",
    "\n",
    "# Specify the final list of feature columns to include in the regression model\n",
    "feature_cols = ['const', 'Year', 'Infant_deaths', 'Under_five_deaths', 'Adult_mortality',\n",
    "                'Hepatitis_B', 'BMI', 'Polio', 'Incidents_HIV_log', 'GDP_per_capita_log',\n",
    "                'Thinness_ten_nineteen_years', 'Schooling', 'Economy_status_Developed',\n",
    "                'Region_Asia', 'Region_Central America and Caribbean',\n",
    "                'Region_European Union', 'Region_Middle East', 'Region_North America',\n",
    "                'Region_Oceania', 'Region_Rest of Europe', 'Region_South America']\n",
    "\n",
    "# Train a linear regression model using statsmodels\n",
    "lin_reg = sm.OLS(y_train, X_train_fe[feature_cols])  # OLS expects y (target) first, then X (features)\n",
    "results = lin_reg.fit()  # Fit the model to the training data\n",
    "\n",
    "# Display the summary of the linear regression model\n",
    "results.summary()\n",
    "\n"
   ]
  },
  {
   "cell_type": "markdown",
   "id": "K9ruQ9gFJHWe",
   "metadata": {
    "id": "K9ruQ9gFJHWe",
    "jp-MarkdownHeadingCollapsed": true
   },
   "source": [
    "#### Code used to test\n"
   ]
  },
  {
   "cell_type": "code",
   "execution_count": 52,
   "id": "5cf43427-efe1-4e9f-994f-faec5ea3dbcf",
   "metadata": {
    "colab": {
     "base_uri": "https://localhost:8080/"
    },
    "id": "5cf43427-efe1-4e9f-994f-faec5ea3dbcf",
    "outputId": "38696086-f723-4450-e03e-ffec1c6e7524"
   },
   "outputs": [
    {
     "name": "stdout",
     "output_type": "stream",
     "text": [
      "TRAIN: 1.1855129546259728\n"
     ]
    }
   ],
   "source": [
    "# Generate predictions for the training data using the fitted model\n",
    "y_train_pred = results.predict(X_train_fe[feature_cols])\n",
    "\n",
    "# Calculate the Root Mean Squared Error (RMSE) for the training set\n",
    "# RMSE is a commonly used metric to measure the average magnitude of prediction errors\n",
    "rmse = statsmodels.tools.eval_measures.rmse(y_train, y_train_pred)\n",
    "\n",
    "# Print the RMSE value for the training set\n",
    "# A lower RMSE indicates better model performance\n",
    "print('TRAIN:', rmse)\n"
   ]
  },
  {
   "cell_type": "code",
   "execution_count": 53,
   "id": "e0502ab1-5a43-4e8f-8a5e-b667f1dc331b",
   "metadata": {
    "colab": {
     "base_uri": "https://localhost:8080/"
    },
    "id": "e0502ab1-5a43-4e8f-8a5e-b667f1dc331b",
    "outputId": "5a86ab5c-de1e-467c-f7cd-7f4e9308fcd1"
   },
   "outputs": [
    {
     "name": "stdout",
     "output_type": "stream",
     "text": [
      "TEST: 1.2428440385066843\n"
     ]
    }
   ],
   "source": [
    "# Apply feature engineering to the test set\n",
    "# Ensures the test data is preprocessed in the same way as the training data\n",
    "X_test_fe = feature_eng(X_test)\n",
    "\n",
    "# Generate predictions for the test set using the trained regression model\n",
    "y_test_pred = results.predict(X_test_fe[feature_cols])\n",
    "\n",
    "# Calculate the Root Mean Squared Error (RMSE) for the test set\n",
    "# RMSE measures how well the model performs on unseen data\n",
    "rmse2 = statsmodels.tools.eval_measures.rmse(y_test, y_test_pred)\n",
    "\n",
    "# Print the RMSE value for the test set\n",
    "# This provides an indication of model generalization to new data\n",
    "print('TEST:', rmse2)\n"
   ]
  },
  {
   "cell_type": "code",
   "execution_count": 54,
   "id": "a_Q7Y7S5NHz7",
   "metadata": {
    "colab": {
     "base_uri": "https://localhost:8080/"
    },
    "id": "a_Q7Y7S5NHz7",
    "outputId": "f850abe5-7ec6-44ef-fb18-2c2076310519"
   },
   "outputs": [
    {
     "name": "stdout",
     "output_type": "stream",
     "text": [
      "1.4417444653395164\n"
     ]
    }
   ],
   "source": [
    "# Calculate the Mean Absolute Percentage Error (MAPE) for the training set\n",
    "# MAPE measures the average percentage difference between predicted and actual values\n",
    "mape = metrics.mean_absolute_percentage_error(y_train, y_train_pred)\n",
    "\n",
    "# Convert the result to a percentage\n",
    "mape_percentage = mape * 100\n",
    "\n",
    "# Print the MAPE as a percentage\n",
    "print(mape_percentage)"
   ]
  },
  {
   "cell_type": "markdown",
   "id": "-hUHJytEGsCb",
   "metadata": {
    "id": "-hUHJytEGsCb"
   },
   "source": [
    "### Ethical Model 👍\n",
    "\n"
   ]
  },
  {
   "cell_type": "markdown",
   "id": "Y2Dk76e4RbZQ",
   "metadata": {
    "id": "Y2Dk76e4RbZQ"
   },
   "source": [
    "RMSE is a commonly used metric to measure the average magnitude of prediction errors.\n",
    "\n",
    "*   RMSE (train) = 2.213\n",
    "*   RMSE (test) = 2.348\n",
    "\n",
    "MAPE measures the average percentage difference between predicted and actual values.\n",
    "*   MAPE = 2.570 %\n",
    "\n",
    "\n",
    "> All rounded to rounded to 4 sf"
   ]
  },
  {
   "cell_type": "markdown",
   "id": "eOe1MFDTICw6",
   "metadata": {
    "id": "eOe1MFDTICw6",
    "jp-MarkdownHeadingCollapsed": true
   },
   "source": [
    "###### Hidden work"
   ]
  },
  {
   "cell_type": "code",
   "execution_count": 56,
   "id": "yh1Oq5KrHrod",
   "metadata": {
    "colab": {
     "base_uri": "https://localhost:8080/",
     "height": 516
    },
    "id": "yh1Oq5KrHrod",
    "outputId": "b7967705-1d43-42ac-9049-15e0af053870"
   },
   "outputs": [
    {
     "data": {
      "text/html": [
       "<table class=\"simpletable\">\n",
       "<caption>OLS Regression Results</caption>\n",
       "<tr>\n",
       "  <th>Dep. Variable:</th>     <td>Life_expectancy</td> <th>  R-squared:         </th> <td>   0.944</td> \n",
       "</tr>\n",
       "<tr>\n",
       "  <th>Model:</th>                   <td>OLS</td>       <th>  Adj. R-squared:    </th> <td>   0.944</td> \n",
       "</tr>\n",
       "<tr>\n",
       "  <th>Method:</th>             <td>Least Squares</td>  <th>  F-statistic:       </th> <td>   9694.</td> \n",
       "</tr>\n",
       "<tr>\n",
       "  <th>Date:</th>             <td>Mon, 09 Dec 2024</td> <th>  Prob (F-statistic):</th>  <td>  0.00</td>  \n",
       "</tr>\n",
       "<tr>\n",
       "  <th>Time:</th>                 <td>11:53:59</td>     <th>  Log-Likelihood:    </th> <td> -5070.7</td> \n",
       "</tr>\n",
       "<tr>\n",
       "  <th>No. Observations:</th>      <td>  2291</td>      <th>  AIC:               </th> <td>1.015e+04</td>\n",
       "</tr>\n",
       "<tr>\n",
       "  <th>Df Residuals:</th>          <td>  2286</td>      <th>  BIC:               </th> <td>1.018e+04</td>\n",
       "</tr>\n",
       "<tr>\n",
       "  <th>Df Model:</th>              <td>     4</td>      <th>                     </th>     <td> </td>    \n",
       "</tr>\n",
       "<tr>\n",
       "  <th>Covariance Type:</th>      <td>nonrobust</td>    <th>                     </th>     <td> </td>    \n",
       "</tr>\n",
       "</table>\n",
       "<table class=\"simpletable\">\n",
       "<tr>\n",
       "           <td></td>              <th>coef</th>     <th>std err</th>      <th>t</th>      <th>P>|t|</th>  <th>[0.025</th>    <th>0.975]</th>  \n",
       "</tr>\n",
       "<tr>\n",
       "  <th>const</th>               <td>   68.9270</td> <td>    0.046</td> <td> 1489.107</td> <td> 0.000</td> <td>   68.836</td> <td>   69.018</td>\n",
       "</tr>\n",
       "<tr>\n",
       "  <th>Year</th>                <td>    0.3543</td> <td>    0.047</td> <td>    7.549</td> <td> 0.000</td> <td>    0.262</td> <td>    0.446</td>\n",
       "</tr>\n",
       "<tr>\n",
       "  <th>Adult_mortality</th>     <td>   -7.1839</td> <td>    0.065</td> <td> -110.289</td> <td> 0.000</td> <td>   -7.312</td> <td>   -7.056</td>\n",
       "</tr>\n",
       "<tr>\n",
       "  <th>Alcohol_consumption</th> <td>    0.8304</td> <td>    0.057</td> <td>   14.499</td> <td> 0.000</td> <td>    0.718</td> <td>    0.943</td>\n",
       "</tr>\n",
       "<tr>\n",
       "  <th>GDP_per_capita_log</th>  <td>    2.0945</td> <td>    0.075</td> <td>   27.756</td> <td> 0.000</td> <td>    1.947</td> <td>    2.243</td>\n",
       "</tr>\n",
       "</table>\n",
       "<table class=\"simpletable\">\n",
       "<tr>\n",
       "  <th>Omnibus:</th>       <td>241.768</td> <th>  Durbin-Watson:     </th> <td>   1.944</td> \n",
       "</tr>\n",
       "<tr>\n",
       "  <th>Prob(Omnibus):</th> <td> 0.000</td>  <th>  Jarque-Bera (JB):  </th> <td> 621.995</td> \n",
       "</tr>\n",
       "<tr>\n",
       "  <th>Skew:</th>          <td>-0.594</td>  <th>  Prob(JB):          </th> <td>8.62e-136</td>\n",
       "</tr>\n",
       "<tr>\n",
       "  <th>Kurtosis:</th>      <td> 5.260</td>  <th>  Cond. No.          </th> <td>    2.96</td> \n",
       "</tr>\n",
       "</table><br/><br/>Notes:<br/>[1] Standard Errors assume that the covariance matrix of the errors is correctly specified."
      ],
      "text/latex": [
       "\\begin{center}\n",
       "\\begin{tabular}{lclc}\n",
       "\\toprule\n",
       "\\textbf{Dep. Variable:}        & Life\\_expectancy & \\textbf{  R-squared:         } &     0.944   \\\\\n",
       "\\textbf{Model:}                &       OLS        & \\textbf{  Adj. R-squared:    } &     0.944   \\\\\n",
       "\\textbf{Method:}               &  Least Squares   & \\textbf{  F-statistic:       } &     9694.   \\\\\n",
       "\\textbf{Date:}                 & Mon, 09 Dec 2024 & \\textbf{  Prob (F-statistic):} &     0.00    \\\\\n",
       "\\textbf{Time:}                 &     11:53:59     & \\textbf{  Log-Likelihood:    } &   -5070.7   \\\\\n",
       "\\textbf{No. Observations:}     &        2291      & \\textbf{  AIC:               } & 1.015e+04   \\\\\n",
       "\\textbf{Df Residuals:}         &        2286      & \\textbf{  BIC:               } & 1.018e+04   \\\\\n",
       "\\textbf{Df Model:}             &           4      & \\textbf{                     } &             \\\\\n",
       "\\textbf{Covariance Type:}      &    nonrobust     & \\textbf{                     } &             \\\\\n",
       "\\bottomrule\n",
       "\\end{tabular}\n",
       "\\begin{tabular}{lcccccc}\n",
       "                               & \\textbf{coef} & \\textbf{std err} & \\textbf{t} & \\textbf{P$> |$t$|$} & \\textbf{[0.025} & \\textbf{0.975]}  \\\\\n",
       "\\midrule\n",
       "\\textbf{const}                 &      68.9270  &        0.046     &  1489.107  &         0.000        &       68.836    &       69.018     \\\\\n",
       "\\textbf{Year}                  &       0.3543  &        0.047     &     7.549  &         0.000        &        0.262    &        0.446     \\\\\n",
       "\\textbf{Adult\\_mortality}      &      -7.1839  &        0.065     &  -110.289  &         0.000        &       -7.312    &       -7.056     \\\\\n",
       "\\textbf{Alcohol\\_consumption}  &       0.8304  &        0.057     &    14.499  &         0.000        &        0.718    &        0.943     \\\\\n",
       "\\textbf{GDP\\_per\\_capita\\_log} &       2.0945  &        0.075     &    27.756  &         0.000        &        1.947    &        2.243     \\\\\n",
       "\\bottomrule\n",
       "\\end{tabular}\n",
       "\\begin{tabular}{lclc}\n",
       "\\textbf{Omnibus:}       & 241.768 & \\textbf{  Durbin-Watson:     } &     1.944  \\\\\n",
       "\\textbf{Prob(Omnibus):} &   0.000 & \\textbf{  Jarque-Bera (JB):  } &   621.995  \\\\\n",
       "\\textbf{Skew:}          &  -0.594 & \\textbf{  Prob(JB):          } & 8.62e-136  \\\\\n",
       "\\textbf{Kurtosis:}      &   5.260 & \\textbf{  Cond. No.          } &      2.96  \\\\\n",
       "\\bottomrule\n",
       "\\end{tabular}\n",
       "%\\caption{OLS Regression Results}\n",
       "\\end{center}\n",
       "\n",
       "Notes: \\newline\n",
       " [1] Standard Errors assume that the covariance matrix of the errors is correctly specified."
      ],
      "text/plain": [
       "<class 'statsmodels.iolib.summary.Summary'>\n",
       "\"\"\"\n",
       "                            OLS Regression Results                            \n",
       "==============================================================================\n",
       "Dep. Variable:        Life_expectancy   R-squared:                       0.944\n",
       "Model:                            OLS   Adj. R-squared:                  0.944\n",
       "Method:                 Least Squares   F-statistic:                     9694.\n",
       "Date:                Mon, 09 Dec 2024   Prob (F-statistic):               0.00\n",
       "Time:                        11:53:59   Log-Likelihood:                -5070.7\n",
       "No. Observations:                2291   AIC:                         1.015e+04\n",
       "Df Residuals:                    2286   BIC:                         1.018e+04\n",
       "Df Model:                           4                                         \n",
       "Covariance Type:            nonrobust                                         \n",
       "=======================================================================================\n",
       "                          coef    std err          t      P>|t|      [0.025      0.975]\n",
       "---------------------------------------------------------------------------------------\n",
       "const                  68.9270      0.046   1489.107      0.000      68.836      69.018\n",
       "Year                    0.3543      0.047      7.549      0.000       0.262       0.446\n",
       "Adult_mortality        -7.1839      0.065   -110.289      0.000      -7.312      -7.056\n",
       "Alcohol_consumption     0.8304      0.057     14.499      0.000       0.718       0.943\n",
       "GDP_per_capita_log      2.0945      0.075     27.756      0.000       1.947       2.243\n",
       "==============================================================================\n",
       "Omnibus:                      241.768   Durbin-Watson:                   1.944\n",
       "Prob(Omnibus):                  0.000   Jarque-Bera (JB):              621.995\n",
       "Skew:                          -0.594   Prob(JB):                    8.62e-136\n",
       "Kurtosis:                       5.260   Cond. No.                         2.96\n",
       "==============================================================================\n",
       "\n",
       "Notes:\n",
       "[1] Standard Errors assume that the covariance matrix of the errors is correctly specified.\n",
       "\"\"\""
      ]
     },
     "execution_count": 56,
     "metadata": {},
     "output_type": "execute_result"
    }
   ],
   "source": [
    "# Specify the final list of feature columns to include in the regression model for the ethical model\n",
    "feature_cols = ['const', 'Year', 'Adult_mortality','Alcohol_consumption', 'GDP_per_capita_log']\n",
    "\n",
    "# Train a linear regression model using statsmodels\n",
    "lin_reg = sm.OLS(y_train, X_train_fe[feature_cols])  # OLS expects y (target) first, then X (features)\n",
    "results = lin_reg.fit()  # Fit the model to the training data\n",
    "\n",
    "# Display the summary of the linear regression model\n",
    "results.summary()"
   ]
  },
  {
   "cell_type": "markdown",
   "id": "j_xmOYKII36L",
   "metadata": {
    "id": "j_xmOYKII36L",
    "jp-MarkdownHeadingCollapsed": true
   },
   "source": [
    "#### Code used to test"
   ]
  },
  {
   "cell_type": "code",
   "execution_count": 57,
   "id": "qgy20dK1IQp9",
   "metadata": {
    "colab": {
     "base_uri": "https://localhost:8080/"
    },
    "id": "qgy20dK1IQp9",
    "outputId": "0a61960a-953e-42e8-93fb-8ee9f92ab3f9"
   },
   "outputs": [
    {
     "name": "stdout",
     "output_type": "stream",
     "text": [
      "TRAIN: 2.213102472568888\n"
     ]
    }
   ],
   "source": [
    "# Generate predictions for the training data using the fitted model\n",
    "y_train_pred = results.predict(X_train_fe[feature_cols])\n",
    "\n",
    "# Calculate the Root Mean Squared Error (RMSE) for the training set\n",
    "# RMSE is a commonly used metric to measure the average magnitude of prediction errors\n",
    "rmse = statsmodels.tools.eval_measures.rmse(y_train, y_train_pred)\n",
    "\n",
    "# Print the RMSE value for the training set\n",
    "# A lower RMSE indicates better model performance\n",
    "print('TRAIN:', rmse)\n"
   ]
  },
  {
   "cell_type": "code",
   "execution_count": 58,
   "id": "uZABJfGdIWro",
   "metadata": {
    "colab": {
     "base_uri": "https://localhost:8080/"
    },
    "id": "uZABJfGdIWro",
    "outputId": "69cb802e-9829-4b03-b8ff-4290d72baa77"
   },
   "outputs": [
    {
     "name": "stdout",
     "output_type": "stream",
     "text": [
      "TEST: 2.3481105398444164\n"
     ]
    }
   ],
   "source": [
    "# Apply feature engineering to the test set\n",
    "# Ensures the test data is preprocessed in the same way as the training data\n",
    "X_test_fe = feature_eng(X_test)\n",
    "\n",
    "# Generate predictions for the test set using the trained regression model\n",
    "y_test_pred = results.predict(X_test_fe[feature_cols])\n",
    "\n",
    "# Calculate the Root Mean Squared Error (RMSE) for the test set\n",
    "# RMSE measures how well the model performs on unseen data\n",
    "rmse2 = statsmodels.tools.eval_measures.rmse(y_test, y_test_pred)\n",
    "\n",
    "# Print the RMSE value for the test set\n",
    "# This provides an indication of model generalization to new data\n",
    "print('TEST:', rmse2)"
   ]
  },
  {
   "cell_type": "code",
   "execution_count": 59,
   "id": "laDcPBu-MtsC",
   "metadata": {
    "colab": {
     "base_uri": "https://localhost:8080/"
    },
    "id": "laDcPBu-MtsC",
    "outputId": "08048143-c95f-49d4-bf88-b9afd78222da"
   },
   "outputs": [
    {
     "name": "stdout",
     "output_type": "stream",
     "text": [
      "2.5704587939261936\n"
     ]
    }
   ],
   "source": [
    "# Calculate the Mean Absolute Percentage Error (MAPE) for the training set\n",
    "# MAPE measures the average percentage difference between predicted and actual values\n",
    "mape = metrics.mean_absolute_percentage_error(y_train, y_train_pred)\n",
    "\n",
    "# Convert the result to a percentage\n",
    "mape_percentage = mape * 100\n",
    "\n",
    "# Print the MAPE as a percentage\n",
    "print(mape_percentage)"
   ]
  }
 ],
 "metadata": {
  "colab": {
   "provenance": []
  },
  "kernelspec": {
   "display_name": "Python 3 (ipykernel)",
   "language": "python",
   "name": "python3"
  },
  "language_info": {
   "codemirror_mode": {
    "name": "ipython",
    "version": 3
   },
   "file_extension": ".py",
   "mimetype": "text/x-python",
   "name": "python",
   "nbconvert_exporter": "python",
   "pygments_lexer": "ipython3",
   "version": "3.12.7"
  }
 },
 "nbformat": 4,
 "nbformat_minor": 5
}
